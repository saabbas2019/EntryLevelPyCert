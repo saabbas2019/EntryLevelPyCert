{
 "cells": [
  {
   "cell_type": "code",
   "execution_count": null,
   "metadata": {},
   "outputs": [],
   "source": [
    "print(\"Hisssssss...\")\n",
    "\n"
   ]
  },
  {
   "cell_type": "code",
   "execution_count": null,
   "metadata": {},
   "outputs": [],
   "source": [
    "print \"Hisssssss...\"\n",
    "\n"
   ]
  },
  {
   "cell_type": "code",
   "execution_count": null,
   "metadata": {},
   "outputs": [],
   "source": [
    "print(\"Hello, World!\", \"Yeah\")\n"
   ]
  },
  {
   "cell_type": "code",
   "execution_count": null,
   "metadata": {},
   "outputs": [],
   "source": [
    "print(\"Hello, Python!\")\n",
    "print(styreader)"
   ]
  },
  {
   "cell_type": "code",
   "execution_count": null,
   "metadata": {},
   "outputs": [],
   "source": [
    "print(\"Hello, World!\", \"Yeah\") print(\"Hello, Python!\")"
   ]
  },
  {
   "cell_type": "code",
   "execution_count": null,
   "metadata": {},
   "outputs": [],
   "source": [
    "print('Hello, Python!')"
   ]
  },
  {
   "cell_type": "code",
   "execution_count": null,
   "metadata": {},
   "outputs": [],
   "source": [
    "print(\"The itsy bitsy spider climbed up the waterspout.\")\n",
    "print(\"Down came the rain and washed the spider out.\")\n"
   ]
  },
  {
   "cell_type": "code",
   "execution_count": null,
   "metadata": {},
   "outputs": [],
   "source": [
    "print(\"The itsy bitsy spider\\nclimbed up the waterspout.\")\n",
    "print()\n",
    "print(\"Down came the rain\\nand washed the spider out.\")\n"
   ]
  },
  {
   "cell_type": "code",
   "execution_count": null,
   "metadata": {},
   "outputs": [],
   "source": [
    "print(\"The itsy bitsy spider\\eclimbed up the waterspout.\")\n",
    "print()\n",
    "print(\"Down came the rain\\eand washed the spider out.\")\n"
   ]
  },
  {
   "cell_type": "code",
   "execution_count": null,
   "metadata": {},
   "outputs": [],
   "source": [
    "print(\"The itsy bitsy spider\" , \"climbed up\" , \"the waterspout.\")\n"
   ]
  },
  {
   "cell_type": "code",
   "execution_count": null,
   "metadata": {},
   "outputs": [],
   "source": [
    "print(\"My name is\", \"Python.\")\n",
    "print(\"Monty Python.\")\n"
   ]
  },
  {
   "cell_type": "code",
   "execution_count": null,
   "metadata": {},
   "outputs": [],
   "source": [
    "print(\"My name is\", \"Python.\", end=\" \")\n",
    "print(\"Monty Python.\")\n"
   ]
  },
  {
   "cell_type": "code",
   "execution_count": null,
   "metadata": {},
   "outputs": [],
   "source": [
    "print(\"My name is \", end=\"           \")\n",
    "print(\"Monty Python.\")\n"
   ]
  },
  {
   "cell_type": "code",
   "execution_count": null,
   "metadata": {},
   "outputs": [],
   "source": [
    "print(\"My\", \"name\", \"is\", \"Monty\", \"Python.\", sep=\"-\")\n"
   ]
  },
  {
   "cell_type": "code",
   "execution_count": null,
   "metadata": {},
   "outputs": [],
   "source": [
    "print(\"My\", \"name\", \"is\", \"Monty\", \"Python.\", sep=\"\")\n"
   ]
  },
  {
   "cell_type": "code",
   "execution_count": null,
   "metadata": {},
   "outputs": [],
   "source": [
    "print(\"My\", \"name\", \"is\", sep=\"_\", end=\"*\")\n",
    "print(\"Monty\", \"Python.\", sep=\"*\", end=\"*\\n\")\n"
   ]
  },
  {
   "cell_type": "code",
   "execution_count": null,
   "metadata": {},
   "outputs": [],
   "source": [
    "print(\"Programming\",\"Essentials\",\"in\", sep=\"***\", end=\"...\")\n",
    "print(\"Python\")\n"
   ]
  },
  {
   "cell_type": "code",
   "execution_count": null,
   "metadata": {},
   "outputs": [],
   "source": [
    "print(\"    *\")\n",
    "print(\"   * *\")\n",
    "print(\"  *   *\")\n",
    "print(\" *     *\")\n",
    "print(\"***   ***\")\n",
    "print(\"  *   *\")\n",
    "print(\"  *   *\")\n",
    "print(\"  *****\")\n"
   ]
  },
  {
   "cell_type": "code",
   "execution_count": null,
   "metadata": {},
   "outputs": [],
   "source": [
    "print(\"    *\\n   * *\\n  *   *\")\n",
    "print(\" *     *\\n***   ***\\n  *   *\")\n",
    "print(\"  *   *\\n  *****\")\n"
   ]
  },
  {
   "cell_type": "code",
   "execution_count": null,
   "metadata": {},
   "outputs": [],
   "source": [
    "print(\"    *\\n   * *\\n  *   *\", sep=\"      \")\n",
    "print(\" *     *\\n***   ***\\n  *   *\", sep=\"     \")\n",
    "print(\"  *   *\\n  *****\", sep=\"     \")\n"
   ]
  },
  {
   "cell_type": "code",
   "execution_count": null,
   "metadata": {},
   "outputs": [],
   "source": [
    "print(\"2\")\n",
    "print(2)\n",
    "print(type(\"2\"))\n",
    "print(type(2))\n"
   ]
  },
  {
   "cell_type": "code",
   "execution_count": null,
   "metadata": {},
   "outputs": [],
   "source": [
    "print(0o123)\n"
   ]
  },
  {
   "cell_type": "code",
   "execution_count": null,
   "metadata": {},
   "outputs": [],
   "source": [
    "print(0x123)\n"
   ]
  },
  {
   "cell_type": "code",
   "execution_count": null,
   "metadata": {},
   "outputs": [],
   "source": [
    "print(0o123)\n",
    "print(0b1011)\n",
    "print(0x123)\n"
   ]
  },
  {
   "cell_type": "code",
   "execution_count": null,
   "metadata": {},
   "outputs": [],
   "source": [
    "num=print(0b10111) \n",
    "print(num)"
   ]
  },
  {
   "cell_type": "code",
   "execution_count": null,
   "metadata": {},
   "outputs": [],
   "source": [
    "6.62607E-34"
   ]
  },
  {
   "cell_type": "code",
   "execution_count": null,
   "metadata": {},
   "outputs": [],
   "source": [
    "print(0.0000000000000000000001)\n"
   ]
  },
  {
   "cell_type": "code",
   "execution_count": null,
   "metadata": {},
   "outputs": [],
   "source": [
    "print(\"I like \\\"Monty Python\\\"\")\n"
   ]
  },
  {
   "cell_type": "code",
   "execution_count": null,
   "metadata": {},
   "outputs": [],
   "source": [
    "print(\"I like \"Monty Python\"\")"
   ]
  },
  {
   "cell_type": "code",
   "execution_count": null,
   "metadata": {},
   "outputs": [],
   "source": [
    "print('I like \"Monty Python\"')\n"
   ]
  },
  {
   "cell_type": "code",
   "execution_count": null,
   "metadata": {},
   "outputs": [],
   "source": [
    "print('I\\'m Monty Python.')\n"
   ]
  },
  {
   "cell_type": "code",
   "execution_count": null,
   "metadata": {},
   "outputs": [],
   "source": [
    "print(True > False)\n",
    "print(True < False)\n"
   ]
  },
  {
   "cell_type": "code",
   "execution_count": null,
   "metadata": {},
   "outputs": [],
   "source": [
    "print('\"I\\'m\"\\n\"\"learning\"\"\\n\"\"\"Python\"\"\"')"
   ]
  },
  {
   "cell_type": "code",
   "execution_count": null,
   "metadata": {},
   "outputs": [],
   "source": [
    "\"I'm\"\n",
    "\"\"learning\"\"\n",
    "\"\"\"Python\"\"\""
   ]
  },
  {
   "cell_type": "code",
   "execution_count": null,
   "metadata": {},
   "outputs": [],
   "source": [
    "bin(1011\n",
    "   )"
   ]
  },
  {
   "cell_type": "code",
   "execution_count": null,
   "metadata": {},
   "outputs": [],
   "source": [
    "dec(1011)"
   ]
  },
  {
   "cell_type": "code",
   "execution_count": null,
   "metadata": {},
   "outputs": [],
   "source": [
    "print(2+2)\n",
    "print('2'+'2')"
   ]
  },
  {
   "cell_type": "markdown",
   "metadata": {},
   "source": [
    "the hierarchy of priorities.\n",
    "\n",
    "\n",
    "The binding of the operator determines the order of computations performed by some operators with equal priority, put side by side in one expression.\n",
    "\n",
    "the exponentiation operator uses right-sided binding.\n",
    "\n",
    "Priority \t        Operator \t\n",
    "1 \t    +, - \t    unary\n",
    "2 \t    ** \t\n",
    "3 \t    *, /, //, % \t\n",
    "4 \t    +, - \t     binary"
   ]
  },
  {
   "cell_type": "code",
   "execution_count": null,
   "metadata": {},
   "outputs": [],
   "source": [
    "# ** - exponentiation (power) operator\n",
    "print(2 ** 3)\n",
    "print(2 ** 3.)\n",
    "print(2. ** 3)\n",
    "print(2. ** 3.)\n"
   ]
  },
  {
   "cell_type": "code",
   "execution_count": null,
   "metadata": {},
   "outputs": [],
   "source": [
    "# * - multiplication operator.\n",
    "print(2 * 3)\n",
    "print(2 * 3.)\n",
    "print(2. * 3)\n",
    "print(2. * 3.)\n"
   ]
  },
  {
   "cell_type": "code",
   "execution_count": null,
   "metadata": {},
   "outputs": [],
   "source": [
    "# / - divisional operator \n",
    "print(7 / 3)\n",
    "print(6 / 3.)\n",
    "print(6. / 3)\n",
    "print(6. / 3.)\n"
   ]
  },
  {
   "cell_type": "code",
   "execution_count": null,
   "metadata": {},
   "outputs": [],
   "source": [
    "# // - integer divisional operator\n",
    "print(7 // 3)\n",
    "print(6 // 3.)\n",
    "print(7. // 3)\n",
    "print(6. // 3.)\n",
    "print(6 // 4)\n",
    "print(6. // 4)\n",
    "print(-6 // 4)\n",
    "print(6. // -4)\n"
   ]
  },
  {
   "cell_type": "code",
   "execution_count": null,
   "metadata": {},
   "outputs": [],
   "source": [
    "# % - remainder (modulo) operator\n",
    "print(14 % 4)\n",
    "print(12 % 4.5)\n"
   ]
  },
  {
   "cell_type": "code",
   "execution_count": null,
   "metadata": {},
   "outputs": [],
   "source": [
    "# + - addition operator\n",
    "\n",
    "print(-4 + 4)\n",
    "print(-4. + 8)\n"
   ]
  },
  {
   "cell_type": "code",
   "execution_count": null,
   "metadata": {},
   "outputs": [],
   "source": [
    "# - - subtraction operator, unary and binary operators\n",
    "\n",
    "print(-4 - 4)\n",
    "print(4. - 8)\n",
    "print(-1.1)"
   ]
  },
  {
   "cell_type": "code",
   "execution_count": null,
   "metadata": {},
   "outputs": [],
   "source": [
    "# unary operators\n",
    "print(+2)"
   ]
  },
  {
   "cell_type": "code",
   "execution_count": null,
   "metadata": {},
   "outputs": [],
   "source": [
    "print(9 % 6 % 2)\n",
    "print(2 ** 2 ** 3)  #- right binding\n",
    "print(2 // 2 // 3)"
   ]
  },
  {
   "cell_type": "code",
   "execution_count": null,
   "metadata": {},
   "outputs": [],
   "source": [
    "print(2 * 3 % 5)  # equal priority  \n",
    "print((5 * ((25 % 13) + 100) / (2 * 13)) // 2)"
   ]
  },
  {
   "cell_type": "markdown",
   "metadata": {},
   "source": [
    "Exercise 1\n",
    "\n",
    "What is the output of the following snippet?\n",
    "print((2 ** 4), (2 * 4.), (2 * 4))\n",
    "print(16, 8.0, 8)\n",
    "\n",
    "\n",
    "Exercise 2\n",
    "\n",
    "What is the output of the following snippet?\n",
    "print((-2 / 4), (2 / 4), (2 // 4), (-2 // 4))\n",
    "print(- 0.5, 0.5, 0, 0)\n",
    "\n",
    "\n",
    "Exercise 3\n",
    "\n",
    "What is the output of the following snippet?\n",
    "print((2 % -4), (2 % 4), (2 ** 3 ** 2))\n",
    "print(-2, 2, 512)\n",
    "\n"
   ]
  },
  {
   "cell_type": "code",
   "execution_count": null,
   "metadata": {},
   "outputs": [],
   "source": [
    "print((2 ** 4), (2 * 4.), (2 * 4))\n",
    "\n",
    "print((-2 / 4), (2 / 4), (2 // 4), (-2 // 4))\n",
    "\n",
    "print((2 % -4), (2 % 4), (2 ** 3 ** 2))\n"
   ]
  },
  {
   "cell_type": "code",
   "execution_count": null,
   "metadata": {},
   "outputs": [],
   "source": [
    "var = 1\n",
    "account_balance = 1000.0\n",
    "client_name = 'John Doe'\n",
    "print(var, account_balance, client_name)\n",
    "print(var)\n",
    "var = \"3.8.5\"\n",
    "print(\"Python version: \" + var)"
   ]
  },
  {
   "cell_type": "code",
   "execution_count": null,
   "metadata": {},
   "outputs": [],
   "source": [
    "a = 3.0\n",
    "b = 4.0\n",
    "c = (a ** 2 + b ** 2) ** 0.5\n",
    "print(\"c =\", c)"
   ]
  },
  {
   "cell_type": "code",
   "execution_count": null,
   "metadata": {},
   "outputs": [],
   "source": [
    "John = 3\n",
    "Mary = 5 \n",
    "Adam = 6\n",
    "total_apples = Adam * Mary // John\n",
    "\n",
    "print(John, Mary, Adam, sep = \", \")\n",
    "print(\"Total number of apples = \", total_apples)\n"
   ]
  },
  {
   "cell_type": "markdown",
   "metadata": {},
   "source": [
    "Shortcut operators\n",
    "\n",
    "i = i + 2 * j \n",
    "i += 2 * j\n",
    "\n",
    "var = var / 2 ⇒ var /= 2\n",
    "\n",
    "rem = rem % 10 ⇒ rem %= 10\n",
    "\n",
    "j = j - (i + var + rem) \n",
    "j -= (i + var + rem)\n",
    "\n",
    "x = x ** 2 \n",
    "x **= 2\n",
    "\n",
    "\n"
   ]
  },
  {
   "cell_type": "code",
   "execution_count": null,
   "metadata": {},
   "outputs": [],
   "source": [
    "kilometers = 12.25\n",
    "miles = 7.38\n",
    "\n",
    "miles_to_kilometers = miles * 1.61\n",
    "kilometers_to_miles = kilometers / 1.61\n",
    "\n",
    "print(miles, \"miles is\", round(miles_to_kilometers, 2), \"kilometers\")\n",
    "print(kilometers, \"kilometers is\", round(kilometers_to_miles, 2), \"miles\")\n"
   ]
  },
  {
   "cell_type": "code",
   "execution_count": null,
   "metadata": {},
   "outputs": [],
   "source": [
    "# 3x3 - 2x2 + 3x - 1 \n",
    "\n",
    "x = 0\n",
    "y = (3 * x ** 3) - (2 * x ** 2) + (3 * x) - 1\n",
    "print(\"y =\", y, \"x =\", x, sep = \" \")\n",
    "\n",
    "\n",
    "x = 1\n",
    "\n",
    "y = (3 * x ** 3) - (2 * x ** 2) + (3 * x) - 1\n",
    "print(\"y =\", y, \"x =\", x, sep = \" \")\n",
    "\n",
    "x = -1\n",
    "\n",
    "y = (3 * x ** 3) - (2 * x ** 2) + (3 * x) - 1\n",
    "print(\"y =\", y, \"x =\", x, sep = \" \")\n",
    "\n",
    "x = float(x)\n",
    "\n",
    "y = (3 * x ** 3) - (2 * x ** 2) + (3 * x) - 1\n",
    "print(\"y =\", y, \"x =\", x, sep = \" \")\n"
   ]
  },
  {
   "cell_type": "code",
   "execution_count": null,
   "metadata": {},
   "outputs": [],
   "source": [
    "a = 6\n",
    "b = 3\n",
    "a /= 2 * b\n",
    "print(a)\n"
   ]
  },
  {
   "cell_type": "markdown",
   "metadata": {},
   "source": [
    "# This program evaluates the hypotenuse c.\n",
    "# a and b are the lengths of the legs.\n",
    "a = 3.0\n",
    "b = 4.0\n",
    "c = (a ** 2 + b ** 2) ** 0.5  # We use ** instead of square root.\n",
    "print(\"c =\", c)\n",
    "\n",
    "#this program computes the number of seconds in a given number of hours\n",
    "# this program has been written two days ago\n",
    "\n",
    "a = 2 # number of hours\n",
    "seconds = 3600 # number of seconds in 1 hour\n",
    "\n",
    "print(\"Hours: \", a) #printing the number of hours\n",
    "# print(\"Seconds in Hours: \", a * seconds) # printing the number of seconds in a given number of hours\n",
    "\n",
    "#here we should also print \"Goodbye\", but a programmer didn't have time to write any code\n",
    "#this is the end of the program that computes the number of seconds in 3 hour\n"
   ]
  },
  {
   "cell_type": "code",
   "execution_count": null,
   "metadata": {},
   "outputs": [],
   "source": [
    "print(\"Tell me anything...\")\n",
    "anything = input()\n",
    "print(\"Hmm...\", anything, \"... Really?\")\n",
    "\n",
    "anynum = input(\"Enter a number: \")\n",
    "something = anynum ** 2.0\n",
    "print(anything, \"to the power of 2 is\", something)\n",
    "\n",
    "\n"
   ]
  },
  {
   "cell_type": "code",
   "execution_count": null,
   "metadata": {},
   "outputs": [],
   "source": [
    "anything = float(input(\"Enter a number: \"))\n",
    "something = anything ** 2.0\n",
    "print(anything, \"to the power of 2 is\", something)\n"
   ]
  },
  {
   "cell_type": "code",
   "execution_count": null,
   "metadata": {},
   "outputs": [],
   "source": [
    "leg_a = float(input(\"Input first leg length: \"))\n",
    "leg_b = float(input(\"Input second leg length: \"))\n",
    "hypo = (leg_a**2 + leg_b**2) ** .5\n",
    "print(\"Hypotenuse length is\", hypo)\n",
    "print(\"Hypotenuse length is\", (leg_a**2 + leg_b**2) ** .5)\n",
    "\n",
    "print(\"Hypotenuse length is \" + str((leg_a**2 + leg_b**2) ** .5))\n"
   ]
  },
  {
   "cell_type": "code",
   "execution_count": null,
   "metadata": {},
   "outputs": [],
   "source": [
    "9** .5"
   ]
  },
  {
   "cell_type": "code",
   "execution_count": null,
   "metadata": {},
   "outputs": [],
   "source": [
    "#applied to two strings, becomes a concatenation operator:\n",
    "\n",
    "fnam = input(\"May I have your first name, please? \")\n",
    "lnam = input(\"May I have your last name, please? \")\n",
    "print(\"Thank you.\")\n",
    "print(\"\\nYour name is \" + fnam + \" \" + lnam + \".\")\n",
    "\n"
   ]
  },
  {
   "cell_type": "code",
   "execution_count": null,
   "metadata": {},
   "outputs": [],
   "source": [
    "# a replication operator:\n",
    "\n",
    "print(\"James\" * 3, end ='\\n')\n",
    "      \n",
    "print(\"+\" + 10 * \"-\" + \"+\")\n",
    "print((\"|\" + \" \" * 10 + \"|\\n\") * 5, end=\"\")\n",
    "print(\"+\" + 10 * \"-\" + \"+\")\n",
    "\n"
   ]
  },
  {
   "cell_type": "code",
   "execution_count": null,
   "metadata": {},
   "outputs": [],
   "source": [
    "# input a float value for variable a here\n",
    "# input a float value for variable b here\n",
    "varA = float(input(\"Input first number: \"))\n",
    "varB = float(input(\"Input second number: \"))\n"
   ]
  },
  {
   "cell_type": "code",
   "execution_count": null,
   "metadata": {},
   "outputs": [],
   "source": [
    "# output the result of addition here\n",
    "print(\"Addition is \" + str((varA + varB)))\n",
    "    # output the result of subtraction here\n",
    "print(\"subtraction is \" + str((varA - varB)))\n",
    "      \n",
    "# output the result of multiplication here\n",
    "print(\"multiplication is \" + str((varA * varB)))\n",
    "\n",
    "# output the result of division here\n",
    "print(\"division is \" + str((varA / varB)))\n",
    "\n",
    "print(\"\\nThat's all, folks!\")\n"
   ]
  },
  {
   "cell_type": "code",
   "execution_count": null,
   "metadata": {},
   "outputs": [],
   "source": [
    "x = float(input(\"Enter value for x: \"))\n",
    "y = 1/(x + 1/(x + 1/(x + (1/x))) )\n",
    "\n",
    "print(\"y =\", y)"
   ]
  },
  {
   "cell_type": "code",
   "execution_count": null,
   "metadata": {},
   "outputs": [],
   "source": [
    "hour = int(input(\"Starting time (hours): \"))\n",
    "mins = int(input(\"Starting time (minutes): \"))\n",
    "dura = int(input(\"Event duration (minutes): \"))\n",
    "\n",
    "# Write your code here.\n"
   ]
  },
  {
   "cell_type": "code",
   "execution_count": null,
   "metadata": {},
   "outputs": [],
   "source": [
    "mina = mins + dura\n",
    "hours = (hour + mina // 60 )%24\n",
    "mina = mina % 60\n",
    "print(str(hours) + \":\" + str(mina))"
   ]
  },
  {
   "cell_type": "code",
   "execution_count": null,
   "metadata": {},
   "outputs": [],
   "source": [
    "name = input(\"Enter your name: \")\n",
    "print(\"Hello, \" + name + \". Nice to meet you!\")\n",
    "\n",
    "print(\"\\nPress Enter to end the program.\")\n",
    "input()\n",
    "print(\"THE END.\")\n",
    "\n"
   ]
  },
  {
   "cell_type": "code",
   "execution_count": 1,
   "metadata": {},
   "outputs": [
    {
     "name": "stdout",
     "output_type": "stream",
     "text": [
      "Enter the first number: 12\n",
      "Enter the second number: 34\n",
      "1234\n",
      "Enter something: hello\n",
      "hellohellohello\n",
      "Enter a number: 5\n",
      "55555\n",
      "Enter a number: 6\n",
      "<class 'str'>\n"
     ]
    }
   ],
   "source": [
    "num_1 = input(\"Enter the first number: \") # Enter 12\n",
    "num_2 = input(\"Enter the second number: \") # Enter 21\n",
    "\n",
    "print(num_1 + num_2) # the program returns 1221\n",
    "\n",
    "\n",
    "#You can also multiply (* - replication) strings, e.g.:\n",
    "my_input = input(\"Enter something: \") # Example input: hello\n",
    "print(my_input * 3) # Expected output: hellohellohello\n",
    "\n",
    "#What is the output of the following snippet?\n",
    "x = int(input(\"Enter a number: \")) # The user enters 2\n",
    "print(x * \"5\")\n",
    "\n",
    "#What is the expected output of the following snippet?\n",
    "x = input(\"Enter a number: \") # The user enters 2\n",
    "print(type(x))\n"
   ]
  },
  {
   "cell_type": "code",
   "execution_count": null,
   "metadata": {},
   "outputs": [],
   "source": []
  }
 ],
 "metadata": {
  "kernelspec": {
   "display_name": "Python 3",
   "language": "python",
   "name": "python3"
  },
  "language_info": {
   "codemirror_mode": {
    "name": "ipython",
    "version": 3
   },
   "file_extension": ".py",
   "mimetype": "text/x-python",
   "name": "python",
   "nbconvert_exporter": "python",
   "pygments_lexer": "ipython3",
   "version": "3.7.3"
  }
 },
 "nbformat": 4,
 "nbformat_minor": 2
}
